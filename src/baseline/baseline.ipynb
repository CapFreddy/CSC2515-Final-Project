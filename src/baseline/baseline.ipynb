{
 "cells": [
  {
   "cell_type": "markdown",
   "metadata": {},
   "source": [
    "# Baseline Methods for OOD Digit Classification\n",
    "\n",
    "- Decision Tree\n",
    "- Random Forest\n",
    "- Regular MLP\n",
    "- AdaBoost\n",
    "- SVM"
   ]
  },
  {
   "cell_type": "markdown",
   "metadata": {},
   "source": [
    "## Data Preprocessing\n",
    "\n",
    "Think about the following\n",
    "\n",
    "- Should data have 3 channels or grayscale (1 channel)\n",
    "- Should we use a scaler to center mean and scale to unit variance"
   ]
  },
  {
   "cell_type": "code",
   "execution_count": 2,
   "metadata": {},
   "outputs": [],
   "source": [
    "import sys\n",
    "import pickle\n",
    "import numpy as np\n",
    "import pandas as pd\n",
    "import seaborn as sns\n",
    "from sklearn import svm\n",
    "from typing import Union, List\n",
    "import matplotlib.pyplot as plt\n",
    "from collections import OrderedDict\n",
    "from torch.utils.data import DataLoader\n",
    "\n",
    "from sklearn.svm import SVC\n",
    "from sklearn.tree import DecisionTreeClassifier\n",
    "from sklearn.ensemble import AdaBoostClassifier\n",
    "from sklearn.model_selection import GridSearchCV\n",
    "from sklearn.preprocessing import label_binarize\n",
    "from sklearn.preprocessing import StandardScaler\n",
    "from sklearn.neural_network import MLPClassifier\n",
    "from sklearn.multiclass import OneVsRestClassifier\n",
    "from sklearn.ensemble import RandomForestClassifier\n",
    "from sklearn.metrics import roc_curve, auc, accuracy_score, precision_score, recall_score, mean_squared_error, classification_report, confusion_matrix, precision_recall_curve, PrecisionRecallDisplay, RocCurveDisplay\n",
    "from joblib import dump, load\n",
    "\n",
    "import os\n",
    "sys.path.insert(0, os.path.abspath(os.path.join(os.getcwd(), '..')))\n",
    "\n",
    "from DGDataset import DGDataset"
   ]
  },
  {
   "cell_type": "code",
   "execution_count": 3,
   "metadata": {},
   "outputs": [],
   "source": [
    "sns.set_style('darkgrid')"
   ]
  },
  {
   "cell_type": "markdown",
   "metadata": {},
   "source": [
    "## Helper Functions"
   ]
  },
  {
   "cell_type": "code",
   "execution_count": 4,
   "metadata": {},
   "outputs": [],
   "source": [
    "datasets = ['mnist', 'mnist_m', 'svhn', 'syn']\n",
    "target_domain = 'mnist'\n",
    "scaler = StandardScaler()"
   ]
  },
  {
   "cell_type": "code",
   "execution_count": 5,
   "metadata": {},
   "outputs": [],
   "source": [
    "def get_performance_metrics(predictions: np.ndarray, labels: np.ndarray):\n",
    "    accuracy = accuracy_score(labels, predictions)\n",
    "    precision = precision_score(labels, predictions, average='weighted')\n",
    "    recall = recall_score(labels, predictions, average='weighted')\n",
    "    mse = mean_squared_error(labels, predictions)\n",
    "    cm = confusion_matrix(labels, predictions)\n",
    "    classification_rpt = classification_report(labels, predictions, output_dict=True)\n",
    "    return {\n",
    "        \"accuracy\": accuracy,\n",
    "        \"precision\": precision,\n",
    "        \"recall\": recall,\n",
    "        \"mse\": mse,\n",
    "        \"cm\": cm,\n",
    "        \"classification_rpt\": classification_rpt,\n",
    "        \"classification_rpt_df\": pd.DataFrame(classification_rpt).transpose()\n",
    "    }\n",
    "# predictions = svm_grid.predict(test_data)\n",
    "# performance = get_performance_metrics(predictions, test_labels)\n"
   ]
  },
  {
   "cell_type": "code",
   "execution_count": 6,
   "metadata": {},
   "outputs": [],
   "source": [
    "def load_dataset(datasets: List[str], target_domain: str, mode: str='train'):\n",
    "    # datasets_ = datasets.copy()\n",
    "    # datasets_.remove(target_domain)\n",
    "    dataset = DGDataset(datasets, mode=mode)\n",
    "    dataloader = DataLoader(dataset, batch_size=100)\n",
    "    data, labels, domains = [], [], []\n",
    "    for d, label, domain in dataloader:\n",
    "        data.extend(d.numpy())\n",
    "        labels.extend(label.numpy())\n",
    "        domains.extend(domain.numpy())\n",
    "    data = np.array(data)\n",
    "    if len(data.shape) == 4:\n",
    "        # has a color channel dimension\n",
    "        data = data.reshape(len(data), np.prod(data.shape[1:])) # flatten each image to a vector\n",
    "    return data, labels, domains"
   ]
  },
  {
   "cell_type": "code",
   "execution_count": 7,
   "metadata": {},
   "outputs": [],
   "source": [
    "train_datasets = datasets.copy()\n",
    "train_datasets.remove(target_domain)\n",
    "train_data, train_labels, train_domains = load_dataset(train_datasets, target_domain, mode='train')\n",
    "val_data, val_labels, val_domains = load_dataset(train_datasets, target_domain, mode='val')\n",
    "test_data, test_labels, test_domains = load_dataset([target_domain], target_domain, mode='test')"
   ]
  },
  {
   "cell_type": "markdown",
   "metadata": {},
   "source": [
    "## SVM"
   ]
  },
  {
   "cell_type": "code",
   "execution_count": 7,
   "metadata": {},
   "outputs": [],
   "source": [
    "parameters = {\n",
    "    'kernel': ['linear', 'poly', 'rbf', 'sigmoid'],\n",
    "    'C': (1, 10),\n",
    "    'gamma': ('scale', 'auto'),\n",
    "    'decision_function_shape': ('ovo', 'ovr')\n",
    "}\n",
    "svm_grid = GridSearchCV(svm.SVC(), parameters).fit(train_data, train_labels)\n",
    "print(\"Best SVM Parameters\")\n",
    "for k, v in svm_grid.best_params_.items():\n",
    "    print(f\"\\t{k}: {v}\")\n",
    "dump(svm_grid, f'./models/{target_domain}/svm_grid.joblib')\n",
    "svm_model = SVC(C=svm_grid.best_params_['C'], \n",
    "                kernel=svm_grid.best_params_['kernel'], \n",
    "                gamma=svm_grid.best_params_['gamma'], \n",
    "                decision_function_shape=svm_grid.best_params_['decision_function_shape']).fit(train_data, train_labels)\n",
    "dump(svm_model, f'./models/{target_domain}/best_svm_model.joblib')\n"
   ]
  },
  {
   "cell_type": "code",
   "execution_count": null,
   "metadata": {},
   "outputs": [],
   "source": [
    "print(f\"Accuracy: {round(accuracy_score(svm_model.predict(test_data), test_labels) * 100, 2)}%\")"
   ]
  },
  {
   "cell_type": "code",
   "execution_count": null,
   "metadata": {},
   "outputs": [],
   "source": [
    "predictions = svm_model.predict(test_data)\n",
    "svm_performance = get_performance_metrics(predictions, test_labels)\n",
    "for k in ['accuracy', 'precision', 'recall', 'mse', 'cm']:\n",
    "    print(f'{k}:', '\\n', svm_performance[k], '\\n')\n",
    "\n",
    "svm_performance['classification_rpt_df']"
   ]
  },
  {
   "cell_type": "markdown",
   "metadata": {},
   "source": [
    "## Decision Tree"
   ]
  },
  {
   "cell_type": "code",
   "execution_count": null,
   "metadata": {},
   "outputs": [],
   "source": [
    "dt_clf = DecisionTreeClassifier(random_state=0)\n",
    "dt_clf.fit(train_data, train_labels)\n",
    "print(f\"Accuracy: {round(accuracy_score(dt_clf.predict(test_data), test_labels) * 100, 2)}%\")"
   ]
  },
  {
   "cell_type": "code",
   "execution_count": null,
   "metadata": {},
   "outputs": [],
   "source": [
    "predictions = dt_clf.predict(test_data)\n",
    "dt_performance = get_performance_metrics(predictions, test_labels)\n",
    "for k in ['accuracy', 'precision', 'recall', 'mse', 'cm']:\n",
    "    print(f'{k}:', '\\n', dt_performance[k], '\\n')\n",
    "\n",
    "dt_performance['classification_rpt_df']"
   ]
  },
  {
   "cell_type": "markdown",
   "metadata": {},
   "source": [
    "## Random Forest"
   ]
  },
  {
   "attachments": {},
   "cell_type": "markdown",
   "metadata": {},
   "source": [
    "## Random Forest Grid Search"
   ]
  },
  {
   "cell_type": "code",
   "execution_count": 8,
   "metadata": {},
   "outputs": [
    {
     "name": "stdout",
     "output_type": "stream",
     "text": [
      "Best Random Forest Parameters\n",
      "\tcriterion: entropy\n",
      "\tmax_features: sqrt\n",
      "\tn_estimators: 100\n"
     ]
    },
    {
     "ename": "FileNotFoundError",
     "evalue": "[Errno 2] No such file or directory: './models/mnist/rf_grid.joblib'",
     "output_type": "error",
     "traceback": [
      "\u001b[0;31m---------------------------------------------------------------------------\u001b[0m",
      "\u001b[0;31mFileNotFoundError\u001b[0m                         Traceback (most recent call last)",
      "Cell \u001b[0;32mIn [8], line 10\u001b[0m\n\u001b[1;32m      8\u001b[0m \u001b[39mfor\u001b[39;00m k, v \u001b[39min\u001b[39;00m rf_grid\u001b[39m.\u001b[39mbest_params_\u001b[39m.\u001b[39mitems():\n\u001b[1;32m      9\u001b[0m     \u001b[39mprint\u001b[39m(\u001b[39mf\u001b[39m\u001b[39m\"\u001b[39m\u001b[39m\\t\u001b[39;00m\u001b[39m{\u001b[39;00mk\u001b[39m}\u001b[39;00m\u001b[39m: \u001b[39m\u001b[39m{\u001b[39;00mv\u001b[39m}\u001b[39;00m\u001b[39m\"\u001b[39m)\n\u001b[0;32m---> 10\u001b[0m dump(rf_grid, \u001b[39mf\u001b[39;49m\u001b[39m'\u001b[39;49m\u001b[39m./models/\u001b[39;49m\u001b[39m{\u001b[39;49;00mtarget_domain\u001b[39m}\u001b[39;49;00m\u001b[39m/rf_grid.joblib\u001b[39;49m\u001b[39m'\u001b[39;49m)\n\u001b[1;32m     11\u001b[0m best_rf_model \u001b[39m=\u001b[39m RandomForestClassifier(\n\u001b[1;32m     12\u001b[0m             n_estimators\u001b[39m=\u001b[39mrf_grid\u001b[39m.\u001b[39mbest_params_[\u001b[39m'\u001b[39m\u001b[39mn_estimators\u001b[39m\u001b[39m'\u001b[39m],\n\u001b[1;32m     13\u001b[0m             criterion\u001b[39m=\u001b[39mrf_grid\u001b[39m.\u001b[39mbest_params_[\u001b[39m'\u001b[39m\u001b[39mcriterion\u001b[39m\u001b[39m'\u001b[39m]\n\u001b[0;32m   (...)\u001b[0m\n\u001b[1;32m     17\u001b[0m             \u001b[39m# decision_function_shape=rf_grid.best_params_['decision_function_shape']).fit(train_data, train_labels\u001b[39;00m\n\u001b[1;32m     18\u001b[0m                 )\n\u001b[1;32m     19\u001b[0m dump(best_rf_model, \u001b[39mf\u001b[39m\u001b[39m'\u001b[39m\u001b[39m./models/\u001b[39m\u001b[39m{\u001b[39;00mtarget_domain\u001b[39m}\u001b[39;00m\u001b[39m/best_rf_model.joblib\u001b[39m\u001b[39m'\u001b[39m)\n",
      "File \u001b[0;32m~/anaconda3/envs/AI/lib/python3.10/site-packages/joblib/numpy_pickle.py:552\u001b[0m, in \u001b[0;36mdump\u001b[0;34m(value, filename, compress, protocol, cache_size)\u001b[0m\n\u001b[1;32m    550\u001b[0m         NumpyPickler(f, protocol\u001b[39m=\u001b[39mprotocol)\u001b[39m.\u001b[39mdump(value)\n\u001b[1;32m    551\u001b[0m \u001b[39melif\u001b[39;00m is_filename:\n\u001b[0;32m--> 552\u001b[0m     \u001b[39mwith\u001b[39;00m \u001b[39mopen\u001b[39;49m(filename, \u001b[39m'\u001b[39;49m\u001b[39mwb\u001b[39;49m\u001b[39m'\u001b[39;49m) \u001b[39mas\u001b[39;00m f:\n\u001b[1;32m    553\u001b[0m         NumpyPickler(f, protocol\u001b[39m=\u001b[39mprotocol)\u001b[39m.\u001b[39mdump(value)\n\u001b[1;32m    554\u001b[0m \u001b[39melse\u001b[39;00m:\n",
      "\u001b[0;31mFileNotFoundError\u001b[0m: [Errno 2] No such file or directory: './models/mnist/rf_grid.joblib'"
     ]
    }
   ],
   "source": [
    "parameters = {\n",
    "    'n_estimators': [10, 50, 100],\n",
    "    'criterion': ('gini', 'entropy', 'log_loss'),\n",
    "    'max_features': ('sqrt', 'log2')\n",
    "}\n",
    "rf_grid = GridSearchCV(RandomForestClassifier(), parameters).fit(train_data, train_labels)\n",
    "print(\"Best Random Forest Parameters\")\n",
    "for k, v in rf_grid.best_params_.items():\n",
    "    print(f\"\\t{k}: {v}\")\n",
    "dump(rf_grid, f'./models/{target_domain}/rf_grid.joblib')\n",
    "best_rf_model = RandomForestClassifier(\n",
    "            n_estimators=rf_grid.best_params_['n_estimators'],\n",
    "            criterion=rf_grid.best_params_['criterion'])\n",
    "best_rf_model.fit(train_data, train_labels)\n",
    "print(f\"Accuracy: {round(accuracy_score(best_rf_model.predict(test_data), test_labels) * 100, 2)}%\")\n",
    "dump(best_rf_model, f'./models/{target_domain}/best_rf_model.joblib')"
   ]
  },
  {
   "cell_type": "code",
   "execution_count": 14,
   "metadata": {},
   "outputs": [
    {
     "name": "stdout",
     "output_type": "stream",
     "text": [
      "Accuracy: 79.43%\n"
     ]
    }
   ],
   "source": [
    "best_rf_model.fit(train_data, train_labels)\n",
    "print(f\"Accuracy: {round(accuracy_score(best_rf_model.predict(test_data), test_labels) * 100, 2)}%\")"
   ]
  },
  {
   "cell_type": "code",
   "execution_count": 11,
   "metadata": {},
   "outputs": [
    {
     "name": "stdout",
     "output_type": "stream",
     "text": [
      "Accuracy: 77.37%\n"
     ]
    }
   ],
   "source": [
    "rf_clf = RandomForestClassifier(random_state=0)\n",
    "rf_clf.fit(train_data, train_labels)\n",
    "print(f\"Accuracy: {round(accuracy_score(rf_clf.predict(test_data), test_labels) * 100, 2)}%\")"
   ]
  },
  {
   "cell_type": "code",
   "execution_count": null,
   "metadata": {},
   "outputs": [],
   "source": [
    "predictions = rf_clf.predict(test_data)\n",
    "rf_performance = get_performance_metrics(predictions, test_labels)\n",
    "for k in ['accuracy', 'precision', 'recall', 'mse', 'cm']:\n",
    "    print(f'{k}:', '\\n', rf_performance[k], '\\n')\n",
    "\n",
    "rf_performance['classification_rpt_df']"
   ]
  },
  {
   "cell_type": "markdown",
   "metadata": {},
   "source": [
    "## MLP"
   ]
  },
  {
   "cell_type": "code",
   "execution_count": null,
   "metadata": {},
   "outputs": [],
   "source": [
    "# parameters = {\n",
    "#     'activation': ('identity', 'logistic', 'tanh', 'relu'),\n",
    "#     'solver': ('lbfgs', 'sgd', 'adam'),\n",
    "#     'learning_rate': ('constant', 'invscaling', 'adaptive')\n",
    "# }\n",
    "# mlp_grid = GridSearchCV(MLPClassifier(shuffle=True), parameters).fit(train_data, train_labels)\n",
    "# print(f\"Accuracy: {round(accuracy_score(mlp_grid.predict(test_data), test_labels) * 100, 2)}%\")\n",
    "# dump(mlp_grid, f'./models/{target_domain}/mlp_grid.joblib')\n",
    "# mlp_clf = MLPClassifier(\n",
    "#     shuffle=True,\n",
    "#     activation=mlp_grid.best_params_['activation'],\n",
    "#     solver=mlp_grid.best_params_['solver'],\n",
    "#     learning_rate=mlp_grid.best_params_['learning_rate']).fit(train_data, train_labels)\n",
    "# dump(mlp_clf, f'./models/{target_domain}/best_mlp.joblib')"
   ]
  },
  {
   "cell_type": "code",
   "execution_count": null,
   "metadata": {},
   "outputs": [],
   "source": [
    "# for k, v in mlp_grid.best_params_.items():\n",
    "#     print(f\"\\t{k}: {v}\")"
   ]
  },
  {
   "cell_type": "code",
   "execution_count": null,
   "metadata": {},
   "outputs": [],
   "source": [
    "# mlp_clf = MLPClassifier(\n",
    "#     shuffle=True,\n",
    "#     activation='relu',\n",
    "#     solver='adam').fit(train_data, train_labels)\n",
    "# dump(mlp_clf, f'./models/{target_domain}/best_mlp.joblib')\n",
    "# predictions = mlp_clf.predict(test_data)\n",
    "# mlp_performance = get_performance_metrics(predictions, test_labels)\n",
    "# for k in ['accuracy', 'precision', 'recall', 'mse', 'cm']:\n",
    "#     print(f'{k}:', '\\n', mlp_performance[k], '\\n')\n",
    "\n",
    "# mlp_performance['classification_rpt_df']"
   ]
  },
  {
   "cell_type": "markdown",
   "metadata": {},
   "source": [
    "## AdaBoost"
   ]
  },
  {
   "cell_type": "code",
   "execution_count": null,
   "metadata": {},
   "outputs": [],
   "source": [
    "adaboost_dt_base_estimator = DecisionTreeClassifier(max_depth=10)\n",
    "adaboost_clf = AdaBoostClassifier(n_estimators=100, random_state=0, base_estimator=adaboost_dt_base_estimator)\n",
    "adaboost_clf.fit(train_data, train_labels)\n",
    "print(f\"Accuracy: {round(accuracy_score(adaboost_clf.predict(test_data), test_labels) * 100, 2)}%\")"
   ]
  },
  {
   "cell_type": "code",
   "execution_count": null,
   "metadata": {},
   "outputs": [],
   "source": [
    "predictions = adaboost_clf.predict(test_data)\n",
    "adaboost_performance = get_performance_metrics(predictions, test_labels)\n",
    "for k in ['accuracy', 'precision', 'recall', 'mse', 'cm']:\n",
    "    print(f'{k}:', '\\n', adaboost_performance[k], '\\n')\n",
    "\n",
    "adaboost_performance['classification_rpt_df']"
   ]
  },
  {
   "attachments": {},
   "cell_type": "markdown",
   "metadata": {},
   "source": [
    "## AdaBoost Grid Search"
   ]
  },
  {
   "cell_type": "code",
   "execution_count": 15,
   "metadata": {},
   "outputs": [
    {
     "name": "stdout",
     "output_type": "stream",
     "text": [
      "Best Random Forest Parameters\n",
      "\tlearning_rate: 1.0\n",
      "\tn_estimators: 100\n"
     ]
    },
    {
     "data": {
      "text/plain": [
       "['./models/mnist/best_adaboost_model.joblib']"
      ]
     },
     "execution_count": 15,
     "metadata": {},
     "output_type": "execute_result"
    }
   ],
   "source": [
    "parameters = {\n",
    "    'n_estimators': [10, 50, 100],\n",
    "    'learning_rate': [0.01, 0.1, 1.0]\n",
    "}\n",
    "adaboost_grid = GridSearchCV(AdaBoostClassifier(), parameters).fit(train_data, train_labels)\n",
    "print(\"Best Random Forest Parameters\")\n",
    "for k, v in adaboost_grid.best_params_.items():\n",
    "    print(f\"\\t{k}: {v}\")\n",
    "dump(adaboost_grid, f'./models/{target_domain}/adaboost_grid.joblib')\n",
    "best_adaboost_model = AdaBoostClassifier(\n",
    "            n_estimators=adaboost_grid.best_params_['n_estimators'],\n",
    "            learning_rate=adaboost_grid.best_params_['learning_rate'])\n",
    "dump(best_adaboost_model, f'./models/{target_domain}/best_adaboost_model.joblib')"
   ]
  },
  {
   "cell_type": "code",
   "execution_count": null,
   "metadata": {},
   "outputs": [],
   "source": []
  },
  {
   "cell_type": "code",
   "execution_count": null,
   "metadata": {},
   "outputs": [],
   "source": []
  },
  {
   "cell_type": "code",
   "execution_count": null,
   "metadata": {},
   "outputs": [],
   "source": []
  },
  {
   "cell_type": "code",
   "execution_count": null,
   "metadata": {},
   "outputs": [],
   "source": []
  }
 ],
 "metadata": {
  "kernelspec": {
   "display_name": "Python 3.10.8 ('AI')",
   "language": "python",
   "name": "python3"
  },
  "language_info": {
   "codemirror_mode": {
    "name": "ipython",
    "version": 3
   },
   "file_extension": ".py",
   "mimetype": "text/x-python",
   "name": "python",
   "nbconvert_exporter": "python",
   "pygments_lexer": "ipython3",
   "version": "3.10.8 (main, Nov  4 2022, 13:48:29) [GCC 11.2.0]"
  },
  "orig_nbformat": 4,
  "vscode": {
   "interpreter": {
    "hash": "51f33083eeb3bead2fc110c1d9704edf8001b7803b26036b4b0f3cbc79f7607f"
   }
  }
 },
 "nbformat": 4,
 "nbformat_minor": 2
}
